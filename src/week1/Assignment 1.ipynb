{
 "cells": [
  {
   "cell_type": "markdown",
   "metadata": {},
   "source": [
    "---\n",
    "\n",
    "_You are currently looking at **version 1.1** of this notebook. To download notebooks and datafiles, as well as get help on Jupyter notebooks in the Coursera platform, visit the [Jupyter Notebook FAQ](https://www.coursera.org/learn/python-machine-learning/resources/bANLa) course resource._\n",
    "\n",
    "---"
   ]
  },
  {
   "cell_type": "markdown",
   "metadata": {},
   "source": [
    "# Assignment 1 - Introduction to Machine Learning"
   ]
  },
  {
   "cell_type": "markdown",
   "metadata": {},
   "source": [
    "For this assignment, you will be using the Breast Cancer Wisconsin (Diagnostic) Database to create a classifier that can help diagnose patients. First, read through the description of the dataset (below)."
   ]
  },
  {
   "cell_type": "code",
   "execution_count": 13,
   "metadata": {
    "collapsed": true
   },
   "outputs": [
    {
     "output_type": "stream",
     "name": "stdout",
     "text": ".. _breast_cancer_dataset:\n\nBreast cancer wisconsin (diagnostic) dataset\n--------------------------------------------\n\n**Data Set Characteristics:**\n\n    :Number of Instances: 569\n\n    :Number of Attributes: 30 numeric, predictive attributes and the class\n\n    :Attribute Information:\n        - radius (mean of distances from center to points on the perimeter)\n        - texture (standard deviation of gray-scale values)\n        - perimeter\n        - area\n        - smoothness (local variation in radius lengths)\n        - compactness (perimeter^2 / area - 1.0)\n        - concavity (severity of concave portions of the contour)\n        - concave points (number of concave portions of the contour)\n        - symmetry \n        - fractal dimension (\"coastline approximation\" - 1)\n\n        The mean, standard error, and \"worst\" or largest (mean of the three\n        largest values) of these features were computed for each image,\n        resulting in 30 features.  For instance, field 3 is Mean Radius, field\n        13 is Radius SE, field 23 is Worst Radius.\n\n        - class:\n                - WDBC-Malignant\n                - WDBC-Benign\n\n    :Summary Statistics:\n\n    ===================================== ====== ======\n                                           Min    Max\n    ===================================== ====== ======\n    radius (mean):                        6.981  28.11\n    texture (mean):                       9.71   39.28\n    perimeter (mean):                     43.79  188.5\n    area (mean):                          143.5  2501.0\n    smoothness (mean):                    0.053  0.163\n    compactness (mean):                   0.019  0.345\n    concavity (mean):                     0.0    0.427\n    concave points (mean):                0.0    0.201\n    symmetry (mean):                      0.106  0.304\n    fractal dimension (mean):             0.05   0.097\n    radius (standard error):              0.112  2.873\n    texture (standard error):             0.36   4.885\n    perimeter (standard error):           0.757  21.98\n    area (standard error):                6.802  542.2\n    smoothness (standard error):          0.002  0.031\n    compactness (standard error):         0.002  0.135\n    concavity (standard error):           0.0    0.396\n    concave points (standard error):      0.0    0.053\n    symmetry (standard error):            0.008  0.079\n    fractal dimension (standard error):   0.001  0.03\n    radius (worst):                       7.93   36.04\n    texture (worst):                      12.02  49.54\n    perimeter (worst):                    50.41  251.2\n    area (worst):                         185.2  4254.0\n    smoothness (worst):                   0.071  0.223\n    compactness (worst):                  0.027  1.058\n    concavity (worst):                    0.0    1.252\n    concave points (worst):               0.0    0.291\n    symmetry (worst):                     0.156  0.664\n    fractal dimension (worst):            0.055  0.208\n    ===================================== ====== ======\n\n    :Missing Attribute Values: None\n\n    :Class Distribution: 212 - Malignant, 357 - Benign\n\n    :Creator:  Dr. William H. Wolberg, W. Nick Street, Olvi L. Mangasarian\n\n    :Donor: Nick Street\n\n    :Date: November, 1995\n\nThis is a copy of UCI ML Breast Cancer Wisconsin (Diagnostic) datasets.\nhttps://goo.gl/U2Uwz2\n\nFeatures are computed from a digitized image of a fine needle\naspirate (FNA) of a breast mass.  They describe\ncharacteristics of the cell nuclei present in the image.\n\nSeparating plane described above was obtained using\nMultisurface Method-Tree (MSM-T) [K. P. Bennett, \"Decision Tree\nConstruction Via Linear Programming.\" Proceedings of the 4th\nMidwest Artificial Intelligence and Cognitive Science Society,\npp. 97-101, 1992], a classification method which uses linear\nprogramming to construct a decision tree.  Relevant features\nwere selected using an exhaustive search in the space of 1-4\nfeatures and 1-3 separating planes.\n\nThe actual linear program used to obtain the separating plane\nin the 3-dimensional space is that described in:\n[K. P. Bennett and O. L. Mangasarian: \"Robust Linear\nProgramming Discrimination of Two Linearly Inseparable Sets\",\nOptimization Methods and Software 1, 1992, 23-34].\n\nThis database is also available through the UW CS ftp server:\n\nftp ftp.cs.wisc.edu\ncd math-prog/cpo-dataset/machine-learn/WDBC/\n\n.. topic:: References\n\n   - W.N. Street, W.H. Wolberg and O.L. Mangasarian. Nuclear feature extraction \n     for breast tumor diagnosis. IS&T/SPIE 1993 International Symposium on \n     Electronic Imaging: Science and Technology, volume 1905, pages 861-870,\n     San Jose, CA, 1993.\n   - O.L. Mangasarian, W.N. Street and W.H. Wolberg. Breast cancer diagnosis and \n     prognosis via linear programming. Operations Research, 43(4), pages 570-577, \n     July-August 1995.\n   - W.H. Wolberg, W.N. Street, and O.L. Mangasarian. Machine learning techniques\n     to diagnose breast cancer from fine-needle aspirates. Cancer Letters 77 (1994) \n     163-171.\n"
    }
   ],
   "source": [
    "import numpy as np\n",
    "import pandas as pd\n",
    "from sklearn.datasets import load_breast_cancer\n",
    "\n",
    "cancer = load_breast_cancer()\n",
    "\n",
    "print(cancer.DESCR) # Print the data set description"
   ]
  },
  {
   "cell_type": "markdown",
   "metadata": {},
   "source": [
    "The object returned by `load_breast_cancer()` is a scikit-learn Bunch object, which is similar to a dictionary."
   ]
  },
  {
   "cell_type": "code",
   "execution_count": 14,
   "metadata": {
    "collapsed": true
   },
   "outputs": [
    {
     "output_type": "execute_result",
     "data": {
      "text/plain": "dict_keys(['data', 'target', 'target_names', 'DESCR', 'feature_names', 'filename'])"
     },
     "metadata": {},
     "execution_count": 14
    }
   ],
   "source": [
    "cancer.keys()"
   ]
  },
  {
   "cell_type": "markdown",
   "metadata": {},
   "source": [
    "### Question 0 (Example)\n",
    "\n",
    "How many features does the breast cancer dataset have?\n",
    "\n",
    "*This function should return an integer.*"
   ]
  },
  {
   "cell_type": "code",
   "execution_count": 15,
   "metadata": {
    "collapsed": true
   },
   "outputs": [
    {
     "output_type": "execute_result",
     "data": {
      "text/plain": "30"
     },
     "metadata": {},
     "execution_count": 15
    }
   ],
   "source": [
    "# You should write your whole answer within the function provided. The autograder will call\n",
    "# this function and compare the return value against the correct solution value\n",
    "def answer_zero():\n",
    "    # This function returns the number of features of the breast cancer dataset, which is an integer. \n",
    "    # The assignment question description will tell you the general format the autograder is expecting\n",
    "    return len(cancer['feature_names'])\n",
    "\n",
    "# You can examine what your function returns by calling it in the cell. If you have questions\n",
    "# about the assignment formats, check out the discussion forums for any FAQs\n",
    "answer_zero() "
   ]
  },
  {
   "cell_type": "markdown",
   "metadata": {},
   "source": [
    "### Question 1\n",
    "\n",
    "Scikit-learn works with lists, numpy arrays, scipy-sparse matrices, and pandas DataFrames, so converting the dataset to a DataFrame is not necessary for training this model. Using a DataFrame does however help make many things easier such as munging data, so let's practice creating a classifier with a pandas DataFrame. \n",
    "\n",
    "\n",
    "\n",
    "Convert the sklearn.dataset `cancer` to a DataFrame. \n",
    "\n",
    "*This function should return a `(569, 31)` DataFrame with * \n",
    "\n",
    "*columns = *\n",
    "\n",
    "    ['mean radius', 'mean texture', 'mean perimeter', 'mean area',\n",
    "    'mean smoothness', 'mean compactness', 'mean concavity',\n",
    "    'mean concave points', 'mean symmetry', 'mean fractal dimension',\n",
    "    'radius error', 'texture error', 'perimeter error', 'area error',\n",
    "    'smoothness error', 'compactness error', 'concavity error',\n",
    "    'concave points error', 'symmetry error', 'fractal dimension error',\n",
    "    'worst radius', 'worst texture', 'worst perimeter', 'worst area',\n",
    "    'worst smoothness', 'worst compactness', 'worst concavity',\n",
    "    'worst concave points', 'worst symmetry', 'worst fractal dimension',\n",
    "    'target']\n",
    "\n",
    "*and index = *\n",
    "\n",
    "    RangeIndex(start=0, stop=569, step=1)"
   ]
  },
  {
   "cell_type": "code",
   "execution_count": 16,
   "metadata": {
    "collapsed": true
   },
   "outputs": [],
   "source": [
    "def answer_one():\n",
    "    \n",
    "    # Your code here\n",
    "    x = pd.DataFrame(cancer.data, columns=cancer.feature_names)\n",
    "    y = pd.DataFrame(cancer.target, columns=['target'])\n",
    "    \n",
    "    return x.join(y)\n",
    "\n",
    "a = answer_one()"
   ]
  },
  {
   "cell_type": "markdown",
   "metadata": {},
   "source": [
    "### Question 2\n",
    "What is the class distribution? (i.e. how many instances of `malignant` (encoded 0) and how many `benign` (encoded 1)?)\n",
    "\n",
    "*This function should return a Series named `target` of length 2 with integer values and index =* `['malignant', 'benign']`"
   ]
  },
  {
   "cell_type": "code",
   "execution_count": 17,
   "metadata": {
    "collapsed": true
   },
   "outputs": [
    {
     "output_type": "execute_result",
     "data": {
      "text/plain": "malignant    212\nbenign       357\nName: target, dtype: int64"
     },
     "metadata": {},
     "execution_count": 17
    }
   ],
   "source": [
    "def answer_two():\n",
    "    cancerdf = answer_one()\n",
    "    \n",
    "    # Your code here\n",
    "    res = cancerdf.groupby('target').size()\n",
    "    res.name = 'target'\n",
    "    res.index = cancer.target_names\n",
    "    \n",
    "    return res\n",
    "\n",
    "\n",
    "answer_two()"
   ]
  },
  {
   "cell_type": "markdown",
   "metadata": {},
   "source": [
    "### Question 3\n",
    "Split the DataFrame into `X` (the data) and `y` (the labels).\n",
    "\n",
    "*This function should return a tuple of length 2:* `(X, y)`*, where* \n",
    "* `X` *has shape* `(569, 30)`\n",
    "* `y` *has shape* `(569,)`."
   ]
  },
  {
   "cell_type": "code",
   "execution_count": 18,
   "metadata": {
    "collapsed": true
   },
   "outputs": [],
   "source": [
    "def answer_three():\n",
    "    cancerdf = answer_one()\n",
    "\n",
    "    # Your code here\n",
    "    X = cancerdf[cancer.feature_names]\n",
    "    y = cancerdf['target']\n",
    "    \n",
    "    return X, y"
   ]
  },
  {
   "cell_type": "markdown",
   "metadata": {},
   "source": [
    "### Question 4\n",
    "Using `train_test_split`, split `X` and `y` into training and test sets `(X_train, X_test, y_train, and y_test)`.\n",
    "\n",
    "**Set the random number generator state to 0 using `random_state=0` to make sure your results match the autograder!**\n",
    "\n",
    "*This function should return a tuple of length 4:* `(X_train, X_test, y_train, y_test)`*, where* \n",
    "* `X_train` *has shape* `(426, 30)`\n",
    "* `X_test` *has shape* `(143, 30)`\n",
    "* `y_train` *has shape* `(426,)`\n",
    "* `y_test` *has shape* `(143,)`"
   ]
  },
  {
   "cell_type": "code",
   "execution_count": 19,
   "metadata": {
    "collapsed": true
   },
   "outputs": [
    {
     "output_type": "execute_result",
     "data": {
      "text/plain": "(     mean radius  mean texture  mean perimeter  mean area  mean smoothness  \\\n 293       11.850         17.46           75.54      432.7          0.08372   \n 332       11.220         19.86           71.94      387.3          0.10540   \n 565       20.130         28.25          131.20     1261.0          0.09780   \n 278       13.590         17.84           86.24      572.3          0.07948   \n 489       16.690         20.20          107.10      857.6          0.07497   \n ..           ...           ...             ...        ...              ...   \n 277       18.810         19.98          120.90     1102.0          0.08923   \n 9         12.460         24.04           83.97      475.9          0.11860   \n 359        9.436         18.32           59.82      278.6          0.10090   \n 192        9.720         18.22           60.73      288.1          0.06950   \n 559       11.510         23.93           74.52      403.5          0.09261   \n \n      mean compactness  mean concavity  mean concave points  mean symmetry  \\\n 293           0.05642        0.026880             0.022800         0.1875   \n 332           0.06779        0.005006             0.007583         0.1940   \n 565           0.10340        0.144000             0.097910         0.1752   \n 278           0.04052        0.019970             0.012380         0.1573   \n 489           0.07112        0.036490             0.023070         0.1846   \n ..                ...             ...                  ...            ...   \n 277           0.05884        0.080200             0.058430         0.1550   \n 9             0.23960        0.227300             0.085430         0.2030   \n 359           0.05956        0.027100             0.014060         0.1506   \n 192           0.02344        0.000000             0.000000         0.1653   \n 559           0.10210        0.111200             0.041050         0.1388   \n \n      mean fractal dimension  ...  worst radius  worst texture  \\\n 293                 0.05715  ...        13.060          25.75   \n 332                 0.06028  ...        11.980          25.78   \n 565                 0.05533  ...        23.690          38.25   \n 278                 0.05520  ...        15.500          26.10   \n 489                 0.05325  ...        19.180          26.56   \n ..                      ...  ...           ...            ...   \n 277                 0.04996  ...        19.960          24.30   \n 9                   0.08243  ...        15.090          40.68   \n 359                 0.06959  ...        12.020          25.02   \n 192                 0.06447  ...         9.968          20.83   \n 559                 0.06570  ...        12.480          37.16   \n \n      worst perimeter  worst area  worst smoothness  worst compactness  \\\n 293            84.35       517.8           0.13690            0.17580   \n 332            76.91       436.1           0.14240            0.09669   \n 565           155.00      1731.0           0.11660            0.19220   \n 278            98.91       739.1           0.10500            0.07622   \n 489           127.30      1084.0           0.10090            0.29200   \n ..               ...         ...               ...                ...   \n 277           129.00      1236.0           0.12430            0.11600   \n 9              97.65       711.4           0.18530            1.05800   \n 359            75.79       439.6           0.13330            0.10490   \n 192            62.25       303.8           0.07117            0.02729   \n 559            82.28       474.2           0.12980            0.25170   \n \n      worst concavity  worst concave points  worst symmetry  \\\n 293          0.13160               0.09140          0.3101   \n 332          0.01335               0.02022          0.3292   \n 565          0.32150               0.16280          0.2572   \n 278          0.10600               0.05185          0.2335   \n 489          0.24770               0.08737          0.4677   \n ..               ...                   ...             ...   \n 277          0.22100               0.12940          0.2567   \n 9            1.10500               0.22100          0.4366   \n 359          0.11440               0.05052          0.2454   \n 192          0.00000               0.00000          0.1909   \n 559          0.36300               0.09653          0.2112   \n \n      worst fractal dimension  \n 293                  0.07007  \n 332                  0.06522  \n 565                  0.06637  \n 278                  0.06263  \n 489                  0.07623  \n ..                       ...  \n 277                  0.05737  \n 9                    0.20750  \n 359                  0.08136  \n 192                  0.06559  \n 559                  0.08732  \n \n [426 rows x 30 columns],\n      mean radius  mean texture  mean perimeter  mean area  mean smoothness  \\\n 512        13.40         20.52           88.64      556.7          0.11060   \n 457        13.21         25.25           84.10      537.9          0.08791   \n 439        14.02         15.66           89.59      606.5          0.07966   \n 298        14.26         18.17           91.22      633.1          0.06576   \n 37         13.03         18.42           82.61      523.8          0.08983   \n ..           ...           ...             ...        ...              ...   \n 236        23.21         26.97          153.50     1670.0          0.09509   \n 113        10.51         20.19           68.64      334.2          0.11220   \n 527        12.34         12.27           78.94      468.5          0.09003   \n 76         13.53         10.94           87.91      559.2          0.12910   \n 162        19.59         18.15          130.70     1214.0          0.11200   \n \n      mean compactness  mean concavity  mean concave points  mean symmetry  \\\n 512           0.14690         0.14450              0.08172         0.2116   \n 457           0.05205         0.02772              0.02068         0.1619   \n 439           0.05581         0.02087              0.02652         0.1589   \n 298           0.05220         0.02475              0.01374         0.1635   \n 37            0.03766         0.02562              0.02923         0.1467   \n ..                ...             ...                  ...            ...   \n 236           0.16820         0.19500              0.12370         0.1909   \n 113           0.13030         0.06476              0.03068         0.1922   \n 527           0.06307         0.02958              0.02647         0.1689   \n 76            0.10470         0.06877              0.06556         0.2403   \n 162           0.16660         0.25080              0.12860         0.2027   \n \n      mean fractal dimension  ...  worst radius  worst texture  \\\n 512                 0.07325  ...         16.41          29.66   \n 457                 0.05584  ...         14.35          34.23   \n 439                 0.05586  ...         14.91          19.31   \n 298                 0.05586  ...         16.22          25.26   \n 37                  0.05863  ...         13.30          22.81   \n ..                      ...  ...           ...            ...   \n 236                 0.06309  ...         31.01          34.51   \n 113                 0.07782  ...         11.16          22.75   \n 527                 0.05808  ...         13.61          19.27   \n 76                  0.06641  ...         14.08          12.49   \n 162                 0.06082  ...         26.73          26.39   \n \n      worst perimeter  worst area  worst smoothness  worst compactness  \\\n 512           113.30       844.4           0.15740            0.38560   \n 457            91.29       632.9           0.12890            0.10630   \n 439            96.53       688.9           0.10340            0.10170   \n 298           105.80       819.7           0.09445            0.21670   \n 37             84.46       545.9           0.09701            0.04619   \n ..               ...         ...               ...                ...   \n 236           206.00      2944.0           0.14810            0.41260   \n 113            72.62       374.4           0.13000            0.20490   \n 527            87.22       564.9           0.12920            0.20740   \n 76             91.36       605.5           0.14510            0.13790   \n 162           174.90      2232.0           0.14380            0.38460   \n \n      worst concavity  worst concave points  worst symmetry  \\\n 512          0.51060               0.20510          0.3585   \n 457          0.13900               0.06005          0.2444   \n 439          0.06260               0.08216          0.2136   \n 298          0.15650               0.07530          0.2636   \n 37           0.04833               0.05013          0.1987   \n ..               ...                   ...             ...   \n 236          0.58200               0.25930          0.3103   \n 113          0.12950               0.06136          0.2383   \n 527          0.17910               0.10700          0.3110   \n 76           0.08539               0.07407          0.2710   \n 162          0.68100               0.22470          0.3643   \n \n      worst fractal dimension  \n 512                  0.11090  \n 457                  0.06788  \n 439                  0.06710  \n 298                  0.07676  \n 37                   0.06169  \n ..                       ...  \n 236                  0.08677  \n 113                  0.09026  \n 527                  0.07592  \n 76                   0.07191  \n 162                  0.09223  \n \n [143 rows x 30 columns],\n 293    1\n 332    1\n 565    0\n 278    1\n 489    0\n       ..\n 277    0\n 9      0\n 359    1\n 192    1\n 559    1\n Name: target, Length: 426, dtype: int64,\n 512    0\n 457    1\n 439    1\n 298    1\n 37     1\n       ..\n 236    0\n 113    1\n 527    1\n 76     1\n 162    0\n Name: target, Length: 143, dtype: int64)"
     },
     "metadata": {},
     "execution_count": 19
    }
   ],
   "source": [
    "from sklearn.model_selection import train_test_split\n",
    "\n",
    "def answer_four():\n",
    "    X, y = answer_three()\n",
    "    \n",
    "    # Your code here\n",
    "    X_train, X_test, y_train, y_test = train_test_split(X, y, random_state=0)\n",
    "    \n",
    "    return X_train, X_test, y_train, y_test\n",
    "answer_four()"
   ]
  },
  {
   "cell_type": "markdown",
   "metadata": {},
   "source": [
    "### Question 5\n",
    "Using KNeighborsClassifier, fit a k-nearest neighbors (knn) classifier with `X_train`, `y_train` and using one nearest neighbor (`n_neighbors = 1`).\n",
    "\n",
    "*This function should return a * `sklearn.neighbors.classification.KNeighborsClassifier`."
   ]
  },
  {
   "cell_type": "code",
   "execution_count": 20,
   "metadata": {
    "collapsed": true
   },
   "outputs": [
    {
     "output_type": "execute_result",
     "data": {
      "text/plain": "KNeighborsClassifier(algorithm='auto', leaf_size=30, metric='minkowski',\n                     metric_params=None, n_jobs=None, n_neighbors=1, p=2,\n                     weights='uniform')"
     },
     "metadata": {},
     "execution_count": 20
    }
   ],
   "source": [
    "from sklearn.neighbors import KNeighborsClassifier\n",
    "\n",
    "def answer_five():\n",
    "    X_train, X_test, y_train, y_test = answer_four()\n",
    "    \n",
    "    # Your code here\n",
    "    knn = KNeighborsClassifier(1, 'uniform')\n",
    "    knn.fit(X_train, y_train)\n",
    "    \n",
    "    return knn\n",
    "\n",
    "answer_five()"
   ]
  },
  {
   "cell_type": "markdown",
   "metadata": {},
   "source": [
    "### Question 6\n",
    "Using your knn classifier, predict the class label using the mean value for each feature.\n",
    "\n",
    "Hint: You can use `cancerdf.mean()[:-1].values.reshape(1, -1)` which gets the mean value for each feature, ignores the target column, and reshapes the data from 1 dimension to 2 (necessary for the precict method of KNeighborsClassifier).\n",
    "\n",
    "*This function should return a numpy array either `array([ 0.])` or `array([ 1.])`*"
   ]
  },
  {
   "cell_type": "code",
   "execution_count": 23,
   "metadata": {
    "collapsed": true
   },
   "outputs": [
    {
     "output_type": "execute_result",
     "data": {
      "text/plain": "array([1])"
     },
     "metadata": {},
     "execution_count": 23
    }
   ],
   "source": [
    "def answer_six():\n",
    "    cancerdf = answer_one()\n",
    "    means = cancerdf.mean()[:-1].values.reshape(1, -1)\n",
    "    \n",
    "    # Your code here\n",
    "    model = answer_five()\n",
    "    prediction = model.predict(means)\n",
    "    \n",
    "    return prediction\n",
    "\n",
    "answer_six()"
   ]
  },
  {
   "cell_type": "markdown",
   "metadata": {},
   "source": [
    "### Question 7\n",
    "Using your knn classifier, predict the class labels for the test set `X_test`.\n",
    "\n",
    "*This function should return a numpy array with shape `(143,)` and values either `0.0` or `1.0`.*"
   ]
  },
  {
   "cell_type": "code",
   "execution_count": 26,
   "metadata": {
    "collapsed": true
   },
   "outputs": [
    {
     "output_type": "execute_result",
     "data": {
      "text/plain": "143"
     },
     "metadata": {},
     "execution_count": 26
    }
   ],
   "source": [
    "def answer_seven():\n",
    "    X_train, X_test, y_train, y_test = answer_four()\n",
    "    knn = answer_five()\n",
    "    \n",
    "    # Your code here\n",
    "    predictions = knn.predict(X_test)\n",
    "    \n",
    "    return predictions"
   ]
  },
  {
   "cell_type": "markdown",
   "metadata": {},
   "source": [
    "### Question 8\n",
    "Find the score (mean accuracy) of your knn classifier using `X_test` and `y_test`.\n",
    "\n",
    "*This function should return a float between 0 and 1*"
   ]
  },
  {
   "cell_type": "code",
   "execution_count": 27,
   "metadata": {
    "collapsed": true
   },
   "outputs": [
    {
     "output_type": "execute_result",
     "data": {
      "text/plain": "0.916083916083916"
     },
     "metadata": {},
     "execution_count": 27
    }
   ],
   "source": [
    "def answer_eight():\n",
    "    X_train, X_test, y_train, y_test = answer_four()\n",
    "    knn = answer_five()\n",
    "    \n",
    "    # Your code here\n",
    "    score = knn.score(X_test, y_test)\n",
    "    \n",
    "    return score\n",
    "\n",
    "answer_eight()"
   ]
  },
  {
   "cell_type": "markdown",
   "metadata": {},
   "source": [
    "### Optional plot\n",
    "\n",
    "Try using the plotting function below to visualize the differet predicition scores between training and test sets, as well as malignant and benign cells."
   ]
  },
  {
   "cell_type": "code",
   "execution_count": 32,
   "metadata": {
    "collapsed": true
   },
   "outputs": [],
   "source": [
    "def accuracy_plot():\n",
    "    import matplotlib.pyplot as plt\n",
    "\n",
    "    %matplotlib notebook\n",
    "    %matplotlib inline\n",
    "\n",
    "    X_train, X_test, y_train, y_test = answer_four()\n",
    "\n",
    "    # Find the training and testing accuracies by target value (i.e. malignant, benign)\n",
    "    mal_train_X = X_train[y_train==0]\n",
    "    mal_train_y = y_train[y_train==0]\n",
    "    ben_train_X = X_train[y_train==1]\n",
    "    ben_train_y = y_train[y_train==1]\n",
    "\n",
    "    mal_test_X = X_test[y_test==0]\n",
    "    mal_test_y = y_test[y_test==0]\n",
    "    ben_test_X = X_test[y_test==1]\n",
    "    ben_test_y = y_test[y_test==1]\n",
    "\n",
    "    knn = answer_five()\n",
    "\n",
    "    scores = [knn.score(mal_train_X, mal_train_y), knn.score(ben_train_X, ben_train_y), \n",
    "              knn.score(mal_test_X, mal_test_y), knn.score(ben_test_X, ben_test_y)]\n",
    "\n",
    "\n",
    "    plt.figure()\n",
    "\n",
    "    # Plot the scores as a bar chart\n",
    "    bars = plt.bar(np.arange(4), scores, color=['#4c72b0','#4c72b0','#55a868','#55a868'])\n",
    "\n",
    "    # directly label the score onto the bars\n",
    "    for bar in bars:\n",
    "        height = bar.get_height()\n",
    "        plt.gca().text(bar.get_x() + bar.get_width()/2, height*.90, '{0:.{1}f}'.format(height, 2), \n",
    "                     ha='center', color='w', fontsize=11)\n",
    "\n",
    "    # remove all the ticks (both axes), and tick labels on the Y axis\n",
    "    plt.tick_params(top='off', bottom='off', left='off', right='off', labelleft='off', labelbottom='on')\n",
    "\n",
    "    # remove the frame of the chart\n",
    "    for spine in plt.gca().spines.values():\n",
    "        spine.set_visible(False)\n",
    "\n",
    "    plt.xticks([0,1,2,3], ['Malignant\\nTraining', 'Benign\\nTraining', 'Malignant\\nTest', 'Benign\\nTest'], alpha=0.8);\n",
    "    plt.title('Training and Test Accuracies for Malignant and Benign Cells', alpha=0.8)\n"
   ]
  },
  {
   "cell_type": "code",
   "execution_count": 33,
   "metadata": {
    "collapsed": true
   },
   "outputs": [],
   "source": [
    "# Uncomment the plotting function to see the visualization, \n",
    "# Comment out the plotting function when submitting your notebook for grading\n",
    "\n",
    "#accuracy_plot() "
   ]
  },
  {
   "cell_type": "code",
   "execution_count": null,
   "metadata": {
    "collapsed": true
   },
   "outputs": [],
   "source": []
  }
 ],
 "metadata": {
  "coursera": {
   "course_slug": "python-machine-learning",
   "graded_item_id": "f9SY5",
   "launcher_item_id": "oxndk",
   "part_id": "mh1Vo"
  },
  "kernelspec": {
   "display_name": "Python 3",
   "language": "python",
   "name": "python3"
  },
  "language_info": {
   "codemirror_mode": {
    "name": "ipython",
    "version": 3
   },
   "file_extension": ".py",
   "mimetype": "text/x-python",
   "name": "python",
   "nbconvert_exporter": "python",
   "pygments_lexer": "ipython3",
   "version": "3.8.1-final"
  }
 },
 "nbformat": 4,
 "nbformat_minor": 1
}